{
  "nbformat": 4,
  "nbformat_minor": 0,
  "metadata": {
    "colab": {
      "name": "Input_output_format_split.ipynb",
      "provenance": []
    },
    "kernelspec": {
      "name": "python3",
      "display_name": "Python 3"
    },
    "language_info": {
      "name": "python"
    }
  },
  "cells": [
    {
      "cell_type": "markdown",
      "metadata": {
        "id": "JRCzk_07i3_0"
      },
      "source": [
        "**Write a program to demonstrate input output commands, use of format, and split commands**"
      ]
    },
    {
      "cell_type": "markdown",
      "metadata": {
        "id": "162EYJN6i-a3"
      },
      "source": [
        "This Program is made by Prakhar Jain"
      ]
    },
    {
      "cell_type": "code",
      "metadata": {
        "colab": {
          "base_uri": "https://localhost:8080/"
        },
        "id": "D5ff9SQijDKd",
        "outputId": "23eaffc9-7471-4685-c8b8-c692ac62b7aa"
      },
      "source": [
        "# Taking input from the user\n",
        "name = input(\"Enter your name: \") #Input Command\n",
        "\n",
        "print(\"Hello, \" + name) #Output Command\n",
        "print(type(name))"
      ],
      "execution_count": 1,
      "outputs": [
        {
          "output_type": "stream",
          "name": "stdout",
          "text": [
            "Enter your name: Acropolis\n",
            "Hello, Acropolis\n",
            "<class 'str'>\n"
          ]
        }
      ]
    },
    {
      "cell_type": "code",
      "metadata": {
        "colab": {
          "base_uri": "https://localhost:8080/"
        },
        "id": "PqZHft5CjOmP",
        "outputId": "c4b076e7-24b2-4484-ba65-30fe16189292"
      },
      "source": [
        "# Taking input from the user as integer\n",
        "num = int(input(\"Enter a number: \"))\n",
        " \n",
        "add = num + 1\n",
        " \n",
        "# Output\n",
        "print(add)"
      ],
      "execution_count": 2,
      "outputs": [
        {
          "output_type": "stream",
          "name": "stdout",
          "text": [
            "Enter a number: 9\n",
            "10\n"
          ]
        }
      ]
    },
    {
      "cell_type": "code",
      "metadata": {
        "colab": {
          "base_uri": "https://localhost:8080/"
        },
        "id": "CaltINs8jYjV",
        "outputId": "d99642e2-11b6-4109-896f-1a98f8976dcc"
      },
      "source": [
        "# Output Command\n",
        "# print() method\n",
        "print(\"HII\")\n",
        " "
      ],
      "execution_count": 3,
      "outputs": [
        {
          "output_type": "stream",
          "name": "stdout",
          "text": [
            "HII\n"
          ]
        }
      ]
    },
    {
      "cell_type": "code",
      "metadata": {
        "colab": {
          "base_uri": "https://localhost:8080/"
        },
        "id": "_lhVO7tWjjch",
        "outputId": "ca6a34c8-3ce4-4b5f-af43-1de4a6e512c5"
      },
      "source": [
        "# print() method\n",
        "print(\"HII\", end = \"!\")\n",
        " \n",
        "# code for disabling the softspace feature \n",
        "print('H', 'H', 'I', sep=\"#\")"
      ],
      "execution_count": 4,
      "outputs": [
        {
          "output_type": "stream",
          "name": "stdout",
          "text": [
            "HII!H#H#I\n"
          ]
        }
      ]
    },
    {
      "cell_type": "code",
      "metadata": {
        "colab": {
          "base_uri": "https://localhost:8080/"
        },
        "id": "848wIbCBjmvA",
        "outputId": "cad223a4-33a0-40c0-e81f-0e79aa05027e"
      },
      "source": [
        "#Formatting\n",
        "name = \"Prakhar\"\n",
        "print(f'Hello {name}! How are you?')"
      ],
      "execution_count": 5,
      "outputs": [
        {
          "output_type": "stream",
          "name": "stdout",
          "text": [
            "Hello Prakhar! How are you?\n"
          ]
        }
      ]
    },
    {
      "cell_type": "code",
      "metadata": {
        "colab": {
          "base_uri": "https://localhost:8080/"
        },
        "id": "mZijiwqYkF6l",
        "outputId": "dfae066f-9a63-4368-d18d-726bdb890315"
      },
      "source": [
        "#Addition and subtraction Program with formated output\n",
        "a = 20\n",
        "b = 10\n",
        " \n",
        "# addition\n",
        "sum = a + b\n",
        " \n",
        "# subtraction\n",
        "sub = a- b\n",
        " \n",
        "# Output\n",
        "print('The value of a is {} and b is {}'.format(a,b))\n",
        " \n",
        "print('{2} is the sum of {0} and {1}'.format(a,b,sum))\n",
        " \n",
        "print('{sub_value} is the subtraction of {value_a} and {value_b}'.format(value_a = a ,\n",
        "                                                                         value_b = b,\n",
        "                                                                         sub_value = sub))"
      ],
      "execution_count": 6,
      "outputs": [
        {
          "output_type": "stream",
          "name": "stdout",
          "text": [
            "The value of a is 20 and b is 10\n",
            "30 is the sum of 20 and 10\n",
            "10 is the subtraction of 20 and 10\n"
          ]
        }
      ]
    },
    {
      "cell_type": "code",
      "metadata": {
        "colab": {
          "base_uri": "https://localhost:8080/"
        },
        "id": "To8Ez5iakfDo",
        "outputId": "f14360dc-b79c-49d9-b1e1-29d974a5a661"
      },
      "source": [
        "#Python String split()\n",
        "text = 'Python is a fun programming language'\n",
        "\n",
        "# split the text from space\n",
        "print(text.split(' '))\n"
      ],
      "execution_count": 7,
      "outputs": [
        {
          "output_type": "stream",
          "name": "stdout",
          "text": [
            "['Python', 'is', 'a', 'fun', 'programming', 'language']\n"
          ]
        }
      ]
    },
    {
      "cell_type": "code",
      "metadata": {
        "colab": {
          "base_uri": "https://localhost:8080/"
        },
        "id": "O10y-0JBm8fw",
        "outputId": "cf8e3624-99fb-4f82-e0a1-e71d7eadab94"
      },
      "source": [
        "#Split using Separator\n",
        "langs = 'C,Python,R,Java,SQL,Hadoop'\n",
        "print(langs.split(','))\n",
        "\n",
        "fruits = 'apples$banana$mango$fig$pear'\n",
        "print(fruits.split('$'))\n"
      ],
      "execution_count": 8,
      "outputs": [
        {
          "output_type": "stream",
          "name": "stdout",
          "text": [
            "['C', 'Python', 'R', 'Java', 'SQL', 'Hadoop']\n",
            "['apples', 'banana', 'mango', 'fig', 'pear']\n"
          ]
        }
      ]
    },
    {
      "cell_type": "code",
      "metadata": {
        "colab": {
          "base_uri": "https://localhost:8080/"
        },
        "id": "gzXyffUUnWxf",
        "outputId": "0eb03267-005e-4eba-886a-00e179e3f74c"
      },
      "source": [
        "# multiple input using split\n",
        " \n",
        "# taking two inputs at a time\n",
        "x, y = input(\"Enter a two value: \").split()\n",
        "print(\"Number of boys: \", x)\n",
        "print(\"Number of girls: \", y)\n",
        "print()\n",
        " \n",
        "# taking three inputs at a time\n",
        "x, y, z = input(\"Enter a three value: \").split()\n",
        "print(\"Total number of teachers: \", x)\n",
        "print(\"Number of boys is : \", y)\n",
        "print(\"Number of girls is : \", z)\n",
        "print()"
      ],
      "execution_count": 10,
      "outputs": [
        {
          "output_type": "stream",
          "name": "stdout",
          "text": [
            "Enter a two value: 2 3\n",
            "Number of boys:  2\n",
            "Number of girls:  3\n",
            "\n",
            "Enter a three value: 5 13 21\n",
            "Total number of teachers:  5\n",
            "Number of boys is :  13\n",
            "Number of girls is :  21\n",
            "\n"
          ]
        }
      ]
    }
  ]
}