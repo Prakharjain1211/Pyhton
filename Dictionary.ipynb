{
  "nbformat": 4,
  "nbformat_minor": 0,
  "metadata": {
    "colab": {
      "name": "Dictionary.ipynb",
      "provenance": []
    },
    "kernelspec": {
      "name": "python3",
      "display_name": "Python 3"
    },
    "language_info": {
      "name": "python"
    }
  },
  "cells": [
    {
      "cell_type": "markdown",
      "metadata": {
        "id": "Nbj_nzTl9-2a"
      },
      "source": [
        "\n",
        "**Write a program to demonstrate Dictionary in Python?**"
      ]
    },
    {
      "cell_type": "markdown",
      "metadata": {
        "id": "Uav2s7VX-Mr3"
      },
      "source": [
        "This Program is made by Prakhar Jain."
      ]
    },
    {
      "cell_type": "code",
      "metadata": {
        "id": "6DwMcrzGtk8y"
      },
      "source": [
        "# empty dictionary\n",
        "my_dict = {}\n",
        "\n",
        "# dictionary with integer keys\n",
        "my_dict = {1: 'apple', 2: 'ball'}"
      ],
      "execution_count": 1,
      "outputs": []
    },
    {
      "cell_type": "code",
      "metadata": {
        "colab": {
          "base_uri": "https://localhost:8080/",
          "height": 261
        },
        "id": "-dW7o5mz-sk_",
        "outputId": "10245abb-1e17-4b07-9983-ef9ad6f7f4ef"
      },
      "source": [
        "# Accessing elements for dictionary\n",
        "# get vs [] for retrieving elements\n",
        "my_dict = {'name': 'Jack', 'age': 26}\n",
        "\n",
        "print(my_dict['name'])\n",
        "\n",
        "print(my_dict.get('age'))\n",
        "\n",
        "# Trying to access keys which doesn't exist throws error\n",
        "# Output None\n",
        "print(my_dict.get('address'))\n",
        "\n",
        "print(my_dict['address'])"
      ],
      "execution_count": 2,
      "outputs": [
        {
          "output_type": "stream",
          "name": "stdout",
          "text": [
            "Jack\n",
            "26\n",
            "None\n"
          ]
        },
        {
          "output_type": "error",
          "ename": "KeyError",
          "evalue": "ignored",
          "traceback": [
            "\u001b[0;31m---------------------------------------------------------------------------\u001b[0m",
            "\u001b[0;31mKeyError\u001b[0m                                  Traceback (most recent call last)",
            "\u001b[0;32m<ipython-input-2-5929cdc93bfb>\u001b[0m in \u001b[0;36m<module>\u001b[0;34m()\u001b[0m\n\u001b[1;32m     11\u001b[0m \u001b[0mprint\u001b[0m\u001b[0;34m(\u001b[0m\u001b[0mmy_dict\u001b[0m\u001b[0;34m.\u001b[0m\u001b[0mget\u001b[0m\u001b[0;34m(\u001b[0m\u001b[0;34m'address'\u001b[0m\u001b[0;34m)\u001b[0m\u001b[0;34m)\u001b[0m\u001b[0;34m\u001b[0m\u001b[0;34m\u001b[0m\u001b[0m\n\u001b[1;32m     12\u001b[0m \u001b[0;34m\u001b[0m\u001b[0m\n\u001b[0;32m---> 13\u001b[0;31m \u001b[0mprint\u001b[0m\u001b[0;34m(\u001b[0m\u001b[0mmy_dict\u001b[0m\u001b[0;34m[\u001b[0m\u001b[0;34m'address'\u001b[0m\u001b[0;34m]\u001b[0m\u001b[0;34m)\u001b[0m\u001b[0;34m\u001b[0m\u001b[0;34m\u001b[0m\u001b[0m\n\u001b[0m",
            "\u001b[0;31mKeyError\u001b[0m: 'address'"
          ]
        }
      ]
    },
    {
      "cell_type": "code",
      "metadata": {
        "colab": {
          "base_uri": "https://localhost:8080/"
        },
        "id": "xODPfh2A-9P6",
        "outputId": "19e012e8-4133-4cdf-d7a3-b0a1b7b35c67"
      },
      "source": [
        "# Changing and adding Dictionary Elements\n",
        "my_dict = {'name': 'Jack', 'age': 26}\n",
        "\n",
        "# update value\n",
        "my_dict['age'] = 27\n",
        "\n",
        "print(my_dict)\n",
        "\n",
        "# add item\n",
        "my_dict['address'] = 'Downtown'\n",
        "\n",
        "print(my_dict)"
      ],
      "execution_count": 3,
      "outputs": [
        {
          "output_type": "stream",
          "name": "stdout",
          "text": [
            "{'name': 'Jack', 'age': 27}\n",
            "{'name': 'Jack', 'age': 27, 'address': 'Downtown'}\n"
          ]
        }
      ]
    },
    {
      "cell_type": "code",
      "metadata": {
        "colab": {
          "base_uri": "https://localhost:8080/",
          "height": 298
        },
        "id": "E7dXa2hF_HRI",
        "outputId": "5882df5b-b5c7-4dcc-8153-adce054cdffd"
      },
      "source": [
        "# Removing elements from a dictionary\n",
        "\n",
        "# create a dictionary\n",
        "squares = {1: 1, 2: 4, 3: 9, 4: 16, 5: 25}\n",
        "\n",
        "# remove a particular item, returns its value\n",
        "print(squares.pop(4))\n",
        "\n",
        "print(squares)\n",
        "\n",
        "# remove an arbitrary item, return (key,value)\n",
        "print(squares.popitem())\n",
        "\n",
        "print(squares)\n",
        "\n",
        "# remove all items\n",
        "squares.clear()\n",
        "\n",
        "print(squares)\n",
        "\n",
        "# delete the dictionary itself\n",
        "del squares\n",
        "\n",
        "# Throws Error\n",
        "print(squares)"
      ],
      "execution_count": 4,
      "outputs": [
        {
          "output_type": "stream",
          "name": "stdout",
          "text": [
            "16\n",
            "{1: 1, 2: 4, 3: 9, 5: 25}\n",
            "(5, 25)\n",
            "{1: 1, 2: 4, 3: 9}\n",
            "{}\n"
          ]
        },
        {
          "output_type": "error",
          "ename": "NameError",
          "evalue": "ignored",
          "traceback": [
            "\u001b[0;31m---------------------------------------------------------------------------\u001b[0m",
            "\u001b[0;31mNameError\u001b[0m                                 Traceback (most recent call last)",
            "\u001b[0;32m<ipython-input-4-58a18607c45f>\u001b[0m in \u001b[0;36m<module>\u001b[0;34m()\u001b[0m\n\u001b[1;32m     23\u001b[0m \u001b[0;34m\u001b[0m\u001b[0m\n\u001b[1;32m     24\u001b[0m \u001b[0;31m# Throws Error\u001b[0m\u001b[0;34m\u001b[0m\u001b[0;34m\u001b[0m\u001b[0;34m\u001b[0m\u001b[0m\n\u001b[0;32m---> 25\u001b[0;31m \u001b[0mprint\u001b[0m\u001b[0;34m(\u001b[0m\u001b[0msquares\u001b[0m\u001b[0;34m)\u001b[0m\u001b[0;34m\u001b[0m\u001b[0;34m\u001b[0m\u001b[0m\n\u001b[0m",
            "\u001b[0;31mNameError\u001b[0m: name 'squares' is not defined"
          ]
        }
      ]
    },
    {
      "cell_type": "code",
      "metadata": {
        "colab": {
          "base_uri": "https://localhost:8080/"
        },
        "id": "IdTBIa-g_Uof",
        "outputId": "a0828a1f-6739-47a2-9cde-72ff1ee17687"
      },
      "source": [
        "# Membership Test for Dictionary Keys\n",
        "squares = {1: 1, 3: 9, 5: 25, 7: 49, 9: 81}\n",
        "\n",
        "# Output: True\n",
        "print(1 in squares)\n",
        "\n",
        "# Output: True\n",
        "print(2 not in squares)\n",
        "\n",
        "# Output: False\n",
        "print(49 in squares)"
      ],
      "execution_count": 5,
      "outputs": [
        {
          "output_type": "stream",
          "name": "stdout",
          "text": [
            "True\n",
            "True\n",
            "False\n"
          ]
        }
      ]
    },
    {
      "cell_type": "code",
      "metadata": {
        "colab": {
          "base_uri": "https://localhost:8080/"
        },
        "id": "hCa7R19Q_rUA",
        "outputId": "7370d823-3970-427d-ad9e-b632426c005a"
      },
      "source": [
        "# Iterating through a Dictionary\n",
        "squares = {1: 1, 3: 9, 5: 25, 7: 49, 9: 81}\n",
        "for i in squares:\n",
        "    print(squares[i])"
      ],
      "execution_count": 6,
      "outputs": [
        {
          "output_type": "stream",
          "name": "stdout",
          "text": [
            "1\n",
            "9\n",
            "25\n",
            "49\n",
            "81\n"
          ]
        }
      ]
    },
    {
      "cell_type": "code",
      "metadata": {
        "colab": {
          "base_uri": "https://localhost:8080/"
        },
        "id": "2sB715Dm_uDJ",
        "outputId": "43039724-bf5c-4453-8988-ba67f6a3364c"
      },
      "source": [
        "# Dictionary Built-in Functions\n",
        "squares = {0: 0, 1: 1, 3: 9, 5: 25, 7: 49, 9: 81}\n",
        "\n",
        "# Output: False\n",
        "print(all(squares))\n",
        "\n",
        "# Output: True\n",
        "print(any(squares))\n",
        "\n",
        "# Output: 6\n",
        "print(len(squares))\n",
        "\n",
        "# Output: [0, 1, 3, 5, 7, 9]\n",
        "print(sorted(squares))"
      ],
      "execution_count": 7,
      "outputs": [
        {
          "output_type": "stream",
          "name": "stdout",
          "text": [
            "False\n",
            "True\n",
            "6\n",
            "[0, 1, 3, 5, 7, 9]\n"
          ]
        }
      ]
    },
    {
      "cell_type": "code",
      "metadata": {
        "colab": {
          "base_uri": "https://localhost:8080/"
        },
        "id": "pwG4vDDm_x0r",
        "outputId": "c0f3678f-fa9a-4be3-f350-bf34b8dfb1c7"
      },
      "source": [
        "# Methods of Dictionary\n",
        "\n",
        "# clear()\n",
        "d = {1: \"one\", 2: \"two\"}\n",
        "d.clear()\n",
        "print('d =', d)\n",
        "\n",
        "# copy()\n",
        "original_marks = {'Physics':67, 'Maths':87}\n",
        "copied_marks = original_marks.copy()\n",
        "print('Original Marks:', original_marks)\n",
        "print('Copied Marks:', copied_marks)\n",
        "\n",
        "# get()\n",
        "marks = {'Physics':67, 'Maths':87}\n",
        "print(marks.get('Physics'))\n",
        "\n",
        "# items()\n",
        "marks = {'Physics':67, 'Maths':87}\n",
        "print(marks.items())\n",
        "\n",
        "# keys()\n",
        "person = {'name': 'Phill', 'age': 22, 'salary': 3500.0}\n",
        "print(person.keys())\n",
        "\n",
        "empty_dict = {}\n",
        "print(empty_dict.keys())\n",
        "\n",
        "# pop()\n",
        "marks = { 'Physics': 67, 'Chemistry': 72, 'Math': 89 }\n",
        "element = marks.pop('Chemistry')\n",
        "print('Popped Marks:', element)\n",
        "\n",
        "#popitem()\n",
        "person = {'name': 'Phill', 'age': 22, 'salary': 3500.0}\n",
        "\n",
        "# ('salary', 3500.0) is inserted at the last, so it is removed.\n",
        "result = person.popitem()\n",
        "\n",
        "print('Return Value = ', result)\n",
        "print('person = ', person)\n",
        "\n",
        "# inserting a new element pair\n",
        "person['profession'] = 'Plumber'\n",
        "\n",
        "# now ('profession', 'Plumber') is the latest element\n",
        "result = person.popitem()\n",
        "\n",
        "print('Return Value = ', result)\n",
        "print('person = ', person)"
      ],
      "execution_count": 8,
      "outputs": [
        {
          "output_type": "stream",
          "name": "stdout",
          "text": [
            "d = {}\n",
            "Original Marks: {'Physics': 67, 'Maths': 87}\n",
            "Copied Marks: {'Physics': 67, 'Maths': 87}\n",
            "67\n",
            "dict_items([('Physics', 67), ('Maths', 87)])\n",
            "dict_keys(['name', 'age', 'salary'])\n",
            "dict_keys([])\n",
            "Popped Marks: 72\n",
            "Return Value =  ('salary', 3500.0)\n",
            "person =  {'name': 'Phill', 'age': 22}\n",
            "Return Value =  ('profession', 'Plumber')\n",
            "person =  {'name': 'Phill', 'age': 22}\n"
          ]
        }
      ]
    }
  ]
}
