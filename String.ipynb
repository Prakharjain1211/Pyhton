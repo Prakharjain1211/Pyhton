{
  "nbformat": 4,
  "nbformat_minor": 0,
  "metadata": {
    "colab": {
      "name": "String.ipynb",
      "provenance": []
    },
    "kernelspec": {
      "name": "python3",
      "display_name": "Python 3"
    },
    "language_info": {
      "name": "python"
    }
  },
  "cells": [
    {
      "cell_type": "markdown",
      "metadata": {
        "id": "dVsxZVuVodJt"
      },
      "source": [
        "**Write a program to demonstrate String in Python?**"
      ]
    },
    {
      "cell_type": "markdown",
      "metadata": {
        "id": "eCpKKKBpolnE"
      },
      "source": [
        "\n",
        "This Program is made by Prakhar Jain"
      ]
    },
    {
      "cell_type": "code",
      "metadata": {
        "colab": {
          "base_uri": "https://localhost:8080/"
        },
        "id": "YqfK-gzyopd8",
        "outputId": "5108584a-2455-42b8-a37a-77a0702c6b64"
      },
      "source": [
        "# defining strings in Python\n",
        "# all of the following are equivalent\n",
        "my_string = 'Hello'\n",
        "print(my_string)\n",
        "\n",
        "my_string = \"Hello\"\n",
        "print(my_string)\n",
        "\n",
        "my_string = '''Hello'''\n",
        "print(my_string)"
      ],
      "execution_count": 1,
      "outputs": [
        {
          "output_type": "stream",
          "name": "stdout",
          "text": [
            "Hello\n",
            "Hello\n",
            "Hello\n"
          ]
        }
      ]
    },
    {
      "cell_type": "code",
      "metadata": {
        "colab": {
          "base_uri": "https://localhost:8080/"
        },
        "id": "FtT3-z1ToyH3",
        "outputId": "a612b22c-6a9c-4502-b69c-9bd69600c5e9"
      },
      "source": [
        "# triple quotes string can extend multiple lines\n",
        "my_string = \"\"\"Hello, welcome to\n",
        "           the world of Python\"\"\"\n",
        "print(my_string)"
      ],
      "execution_count": 2,
      "outputs": [
        {
          "output_type": "stream",
          "name": "stdout",
          "text": [
            "Hello, welcome to\n",
            "           the world of Python\n"
          ]
        }
      ]
    },
    {
      "cell_type": "code",
      "metadata": {
        "colab": {
          "base_uri": "https://localhost:8080/"
        },
        "id": "UvSqmxa4o1u4",
        "outputId": "de31c0ea-800e-44f3-be55-256a429390c4"
      },
      "source": [
        "#Accessing string characters in Python\n",
        "str = 'programmer'\n",
        "print('str = ', str)\n",
        "\n",
        "#first character\n",
        "print('str[0] = ', str[0])\n",
        "\n",
        "#last character\n",
        "print('str[-1] = ', str[-1])\n",
        "\n",
        "#slicing 2nd to 5th character\n",
        "print('str[1:5] = ', str[1:5])\n",
        "\n",
        "#slicing 6th to 2nd last character\n",
        "print('str[5:-2] = ', str[5:-2])"
      ],
      "execution_count": 3,
      "outputs": [
        {
          "output_type": "stream",
          "name": "stdout",
          "text": [
            "str =  programmer\n",
            "str[0] =  p\n",
            "str[-1] =  r\n",
            "str[1:5] =  rogr\n",
            "str[5:-2] =  amm\n"
          ]
        }
      ]
    },
    {
      "cell_type": "code",
      "metadata": {
        "colab": {
          "base_uri": "https://localhost:8080/"
        },
        "id": "6QO-ihomo9GB",
        "outputId": "b08e772f-beff-46d0-d4b3-86fe436e5cd8"
      },
      "source": [
        "# Python String Operations\n",
        "str1 = 'Hello'\n",
        "str2 ='World!'\n",
        "\n",
        "# using +\n",
        "print('str1 + str2 = ', str1 + str2)\n",
        "\n",
        "# using *\n",
        "print('str1 * 3 =', str1 * 3)\n"
      ],
      "execution_count": 4,
      "outputs": [
        {
          "output_type": "stream",
          "name": "stdout",
          "text": [
            "str1 + str2 =  HelloWorld!\n",
            "str1 * 3 = HelloHelloHello\n"
          ]
        }
      ]
    },
    {
      "cell_type": "code",
      "metadata": {
        "colab": {
          "base_uri": "https://localhost:8080/"
        },
        "id": "FxZISQN6pJkp",
        "outputId": "306b16a1-6066-40c4-bd93-d5ecc7512ae8"
      },
      "source": [
        "# Iterating through a string\n",
        "count = 0\n",
        "for letter in 'Hello World':\n",
        "    if(letter == 'l'):\n",
        "        count += 1\n",
        "print(count,'letters found')\n"
      ],
      "execution_count": 5,
      "outputs": [
        {
          "output_type": "stream",
          "name": "stdout",
          "text": [
            "3 letters found\n"
          ]
        }
      ]
    },
    {
      "cell_type": "code",
      "metadata": {
        "colab": {
          "base_uri": "https://localhost:8080/"
        },
        "id": "WnghQMn9pNPg",
        "outputId": "a8611ca8-b0ab-41bd-8783-c3ff2d27293c"
      },
      "source": [
        "# using triple quotes\n",
        "print('''He said, \"What's there?\"''')\n",
        "\n",
        "# escaping single quotes\n",
        "print('He said, \"What\\'s there?\"')\n",
        "\n",
        "# escaping double quotes\n",
        "print(\"He said, \\\"What's there?\\\"\")\n"
      ],
      "execution_count": 6,
      "outputs": [
        {
          "output_type": "stream",
          "name": "stdout",
          "text": [
            "He said, \"What's there?\"\n",
            "He said, \"What's there?\"\n",
            "He said, \"What's there?\"\n"
          ]
        }
      ]
    },
    {
      "cell_type": "code",
      "metadata": {
        "colab": {
          "base_uri": "https://localhost:8080/"
        },
        "id": "Lg5GSN1CpRts",
        "outputId": "47853f28-9a95-492d-9d1b-d575b1c99655"
      },
      "source": [
        "# Looping Through a String\n",
        "for x in \"banana\":\n",
        "  print(x)\n"
      ],
      "execution_count": 7,
      "outputs": [
        {
          "output_type": "stream",
          "name": "stdout",
          "text": [
            "b\n",
            "a\n",
            "n\n",
            "a\n",
            "n\n",
            "a\n"
          ]
        }
      ]
    },
    {
      "cell_type": "code",
      "metadata": {
        "colab": {
          "base_uri": "https://localhost:8080/"
        },
        "id": "r6YP7nuHpVOp",
        "outputId": "9c1821ff-eba4-4a7a-8f68-80c3faebe700"
      },
      "source": [
        "# String Length\n",
        "a = \"Hello, World!\"\n",
        "print(len(a))\n"
      ],
      "execution_count": 8,
      "outputs": [
        {
          "output_type": "stream",
          "name": "stdout",
          "text": [
            "13\n"
          ]
        }
      ]
    },
    {
      "cell_type": "code",
      "metadata": {
        "colab": {
          "base_uri": "https://localhost:8080/"
        },
        "id": "asGbr_wVpaFc",
        "outputId": "e8dcbf22-79a4-4ae9-ee7a-a124dd3f062b"
      },
      "source": [
        "# Check String\n",
        "txt = \"The best things in life are free!\"\n",
        "print(\"free\" in txt)\n"
      ],
      "execution_count": 9,
      "outputs": [
        {
          "output_type": "stream",
          "name": "stdout",
          "text": [
            "True\n"
          ]
        }
      ]
    },
    {
      "cell_type": "code",
      "metadata": {
        "colab": {
          "base_uri": "https://localhost:8080/"
        },
        "id": "fuSGAevqpcHO",
        "outputId": "8d03fdd1-44f7-40e6-a904-dba225cead45"
      },
      "source": [
        "# Check if NOT\n",
        "txt = \"The best things in life are free!\"\n",
        "print(\"expensive\" not in txt)"
      ],
      "execution_count": 10,
      "outputs": [
        {
          "output_type": "stream",
          "name": "stdout",
          "text": [
            "True\n"
          ]
        }
      ]
    },
    {
      "cell_type": "code",
      "metadata": {
        "colab": {
          "base_uri": "https://localhost:8080/"
        },
        "id": "EHFVlrTwpgk-",
        "outputId": "4a5e58e2-afca-47d1-b7d0-a99fb04dac25"
      },
      "source": [
        "# Upper Case\n",
        "a = \"Hello, World!\"\n",
        "print(a.upper())\n",
        "\n",
        "# Lower Case\n",
        "a = \"Hello, World!\"\n",
        "print(a.lower())\n"
      ],
      "execution_count": 11,
      "outputs": [
        {
          "output_type": "stream",
          "name": "stdout",
          "text": [
            "HELLO, WORLD!\n",
            "hello, world!\n"
          ]
        }
      ]
    },
    {
      "cell_type": "code",
      "metadata": {
        "colab": {
          "base_uri": "https://localhost:8080/"
        },
        "id": "zPfKkuuspj2E",
        "outputId": "4e7dd1f9-01df-4b15-b1d4-88fd62253b37"
      },
      "source": [
        "# Replace String\n",
        "a = \"Hello, World!\"\n",
        "print(a.replace(\"H\", \"J\"))\n",
        "\n",
        "# Split String\n",
        "a = \"Hello, World!\"\n",
        "print(a.split(\",\")) # returns ['Hello', ' World!']\n"
      ],
      "execution_count": 12,
      "outputs": [
        {
          "output_type": "stream",
          "name": "stdout",
          "text": [
            "Jello, World!\n",
            "['Hello', ' World!']\n"
          ]
        }
      ]
    },
    {
      "cell_type": "code",
      "metadata": {
        "colab": {
          "base_uri": "https://localhost:8080/"
        },
        "id": "2HvkzPOypnTo",
        "outputId": "7d834c31-6f92-41b6-877e-ddaf88db4bb5"
      },
      "source": [
        "# String Format\n",
        "\n",
        "quantity = 3\n",
        "itemno = 567\n",
        "price = 49.95\n",
        "myorder = \"I want {} pieces of item {} for {} dollars.\"\n",
        "print(myorder.format(quantity, itemno, price))\n"
      ],
      "execution_count": 13,
      "outputs": [
        {
          "output_type": "stream",
          "name": "stdout",
          "text": [
            "I want 3 pieces of item 567 for 49.95 dollars.\n"
          ]
        }
      ]
    }
  ]
}