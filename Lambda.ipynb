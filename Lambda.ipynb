{
  "nbformat": 4,
  "nbformat_minor": 0,
  "metadata": {
    "colab": {
      "name": "Lambda.ipynb",
      "provenance": []
    },
    "kernelspec": {
      "name": "python3",
      "display_name": "Python 3"
    },
    "language_info": {
      "name": "python"
    }
  },
  "cells": [
    {
      "cell_type": "markdown",
      "metadata": {
        "id": "CqO3D-51tj_l"
      },
      "source": [
        "**Write at least 10-15  problem codes   to demonstrate \n",
        "usage of Lambda functions in Python (with use of map, filter , reduce etc.)**"
      ]
    },
    {
      "cell_type": "markdown",
      "metadata": {
        "id": "2tWpTtWDtsHP"
      },
      "source": [
        "This Program is made by Prakhar Jain"
      ]
    },
    {
      "cell_type": "code",
      "metadata": {
        "colab": {
          "base_uri": "https://localhost:8080/"
        },
        "id": "v7qkFGkdtxzv",
        "outputId": "380a8337-4175-44c6-8886-51b5d08a2c61"
      },
      "source": [
        "# Program to show the use of lambda functions\n",
        "double = lambda x: x * 2\n",
        "print(double(5))"
      ],
      "execution_count": 1,
      "outputs": [
        {
          "output_type": "stream",
          "name": "stdout",
          "text": [
            "10\n"
          ]
        }
      ]
    },
    {
      "cell_type": "code",
      "metadata": {
        "colab": {
          "base_uri": "https://localhost:8080/"
        },
        "id": "BzEw42iYtzYs",
        "outputId": "13744d0b-3712-476d-dd45-4707f9bbe34b"
      },
      "source": [
        "# Use with filter()\n",
        "my_list = [1, 5, 4, 6, 8, 11, 3, 12]\n",
        "new_list = list(filter(lambda x: (x%2 == 0) , my_list))\n",
        "print(new_list)"
      ],
      "execution_count": 2,
      "outputs": [
        {
          "output_type": "stream",
          "name": "stdout",
          "text": [
            "[4, 6, 8, 12]\n"
          ]
        }
      ]
    },
    {
      "cell_type": "code",
      "metadata": {
        "colab": {
          "base_uri": "https://localhost:8080/"
        },
        "id": "nvXF13hPt1GV",
        "outputId": "9f197301-fb64-42fc-d34c-ea2be0a78778"
      },
      "source": [
        "# Use with map()\n",
        "my_list = [1, 5, 4, 6, 8, 11, 3, 12]\n",
        "new_list = list(map(lambda x: x * 2 , my_list))\n",
        "print(new_list)"
      ],
      "execution_count": 3,
      "outputs": [
        {
          "output_type": "stream",
          "name": "stdout",
          "text": [
            "[2, 10, 8, 12, 16, 22, 6, 24]\n"
          ]
        }
      ]
    },
    {
      "cell_type": "code",
      "metadata": {
        "colab": {
          "base_uri": "https://localhost:8080/"
        },
        "id": "2Advb9o_t3kB",
        "outputId": "a95ebff8-83fa-4599-9fdc-a7d7d2ed3b42"
      },
      "source": [
        "# Use with reduce\n",
        "from functools import reduce\n",
        "li = [5, 8, 10, 20, 50, 100]\n",
        "sum = reduce((lambda x, y: x + y), li)\n",
        "print (sum)"
      ],
      "execution_count": 4,
      "outputs": [
        {
          "output_type": "stream",
          "name": "stdout",
          "text": [
            "193\n"
          ]
        }
      ]
    },
    {
      "cell_type": "code",
      "metadata": {
        "colab": {
          "base_uri": "https://localhost:8080/"
        },
        "id": "52i5JEAnt6G7",
        "outputId": "79e144b9-c272-4871-827c-b13b9e212e06"
      },
      "source": [
        "#simple funtion to multiply 2 numbers\n",
        "x= (lambda a,b:a*b)(4,5)\n",
        "print(x)"
      ],
      "execution_count": 5,
      "outputs": [
        {
          "output_type": "stream",
          "name": "stdout",
          "text": [
            "20\n"
          ]
        }
      ]
    },
    {
      "cell_type": "code",
      "metadata": {
        "colab": {
          "base_uri": "https://localhost:8080/"
        },
        "id": "anYYLv8Et9NH",
        "outputId": "c8ea9f43-d0ae-467f-fa5e-83e284efbf00"
      },
      "source": [
        "#simple function to cube a number\n",
        "x=(lambda a:a*a*a)(5)\n",
        "print(x)"
      ],
      "execution_count": 6,
      "outputs": [
        {
          "output_type": "stream",
          "name": "stdout",
          "text": [
            "125\n"
          ]
        }
      ]
    },
    {
      "cell_type": "code",
      "metadata": {
        "colab": {
          "base_uri": "https://localhost:8080/"
        },
        "id": "OXqJfEL0uAOc",
        "outputId": "eb68c2a3-4cbd-4642-8d81-abbd523e98e1"
      },
      "source": [
        "l=[1,2,6,7,5,4]\n",
        "list(map(lambda x:x*2, l))"
      ],
      "execution_count": 7,
      "outputs": [
        {
          "output_type": "execute_result",
          "data": {
            "text/plain": [
              "[2, 4, 12, 14, 10, 8]"
            ]
          },
          "metadata": {},
          "execution_count": 7
        }
      ]
    },
    {
      "cell_type": "code",
      "metadata": {
        "colab": {
          "base_uri": "https://localhost:8080/"
        },
        "id": "U06_7YdruC4-",
        "outputId": "7c157a5c-8568-49f1-ba66-156856971be3"
      },
      "source": [
        "#add 2 list\n",
        "x=[1,2,3,4,5]\n",
        "y=[5,4,3,2,1]\n",
        "z=list(map(lambda a,b:a+b,x,y))\n",
        "print(z)"
      ],
      "execution_count": 8,
      "outputs": [
        {
          "output_type": "stream",
          "name": "stdout",
          "text": [
            "[6, 6, 6, 6, 6]\n"
          ]
        }
      ]
    },
    {
      "cell_type": "code",
      "metadata": {
        "colab": {
          "base_uri": "https://localhost:8080/"
        },
        "id": "x-JEeOQTuEsN",
        "outputId": "8a9b8d5b-55a7-4211-f624-563a880e81b7"
      },
      "source": [
        "#print table of 7 using lambda functions\n",
        "            # j is equal to x where x is 7 times j and x is in range 1 to 10\n",
        "table=[lambda j=x:7*j for x in range(1,11)]\n",
        "\n",
        "#print(table)\n",
        "\n",
        "for i in table:\n",
        "    print(i())"
      ],
      "execution_count": 9,
      "outputs": [
        {
          "output_type": "stream",
          "name": "stdout",
          "text": [
            "7\n",
            "14\n",
            "21\n",
            "28\n",
            "35\n",
            "42\n",
            "49\n",
            "56\n",
            "63\n",
            "70\n"
          ]
        }
      ]
    },
    {
      "cell_type": "code",
      "metadata": {
        "colab": {
          "base_uri": "https://localhost:8080/"
        },
        "id": "9DCcSPjEuHTn",
        "outputId": "8039611b-1e0e-4f6d-e634-5db72071af60"
      },
      "source": [
        "animals = ['dog', 'cat', 'parrot', 'rabbit']\n",
        "uppered_animals = list(map(lambda animal: str.upper(animal), animals))\n",
        " \n",
        "print(uppered_animals)"
      ],
      "execution_count": 10,
      "outputs": [
        {
          "output_type": "stream",
          "name": "stdout",
          "text": [
            "['DOG', 'CAT', 'PARROT', 'RABBIT']\n"
          ]
        }
      ]
    },
    {
      "cell_type": "code",
      "metadata": {
        "colab": {
          "base_uri": "https://localhost:8080/"
        },
        "id": "49q6nlZxuopf",
        "outputId": "f8fc1d82-c24c-4cf1-ff35-93b20f90ad57"
      },
      "source": [
        "ages = [13, 90, 17, 59, 21, 60, 5]\n",
        " \n",
        "adults = list(filter(lambda age: age>18, ages))\n",
        " \n",
        "print(adults)"
      ],
      "execution_count": 11,
      "outputs": [
        {
          "output_type": "stream",
          "name": "stdout",
          "text": [
            "[90, 59, 21, 60]\n"
          ]
        }
      ]
    }
  ]
}